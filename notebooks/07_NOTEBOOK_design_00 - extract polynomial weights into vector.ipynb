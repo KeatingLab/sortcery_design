{
 "cells": [
  {
   "cell_type": "code",
   "execution_count": 7,
   "metadata": {
    "collapsed": true
   },
   "outputs": [],
   "source": [
    "import pickle\n",
    "import numpy as np"
   ]
  },
  {
   "cell_type": "code",
   "execution_count": 8,
   "metadata": {
    "collapsed": true
   },
   "outputs": [],
   "source": [
    "def getPolyExpansion(inputVector):\n",
    "    myDegree = 2\n",
    "    myNewVector=[]\n",
    "    \n",
    "    # With intercept\n",
    "    myNewVector.append(1)\n",
    "    \n",
    "    #for each in inputVector:\n",
    "    #    myNewVector.append(np.sqrt(2)*each)\n",
    "    \n",
    "    for i in range(len(inputVector)):\n",
    "        for j in range(i,len(inputVector)):\n",
    "            if (i==j):\n",
    "                myNewVector.append(inputVector[i]*inputVector[j])\n",
    "\n",
    "            else:\n",
    "                myNewVector.append(np.sqrt(2)*inputVector[i]*inputVector[j])\n",
    "    \n",
    "    \n",
    "    return np.array(myNewVector)\n",
    "\n",
    "myConstant = getPolyExpansion(np.ones(440))\n",
    "\n",
    "def getWeights(model):\n",
    "    dualCoef = model.dual_coef_\n",
    "    supportVectors = model.support_vectors_    \n",
    "    \n",
    "    supportVectorXDegree=[]\n",
    "    for each in supportVectors:\n",
    "        supportVectorXDegree.append(getPolyExpansion(each))\n",
    "    supportVectorXDegree = np.array(supportVectorXDegree)\n",
    "   \n",
    "    # w = alpha * X\n",
    "    weights = dualCoef.dot(supportVectorXDegree)\n",
    "    weights_ZeroOne = weights * myConstant\n",
    "    \n",
    "    return weights_ZeroOne[0]\n",
    "    "
   ]
  },
  {
   "cell_type": "code",
   "execution_count": 9,
   "metadata": {
    "collapsed": true
   },
   "outputs": [],
   "source": [
    "myPosLabels=['1E','1F','1G','2A','2B','2C','2D','2E','2F','2G','3A','3B','3C','3D','3E','3F','3G','4A','4B','4C','4D','4E']\n",
    "def getPolyExpansionLabels(inputVector):\n",
    "    \n",
    "    myLabels = []\n",
    "    \n",
    "\n",
    "    myDegree = 2\n",
    "    myNewVector=[]\n",
    "    \n",
    "    myLabels.append('Offset')\n",
    "    for idx,each in enumerate(inputVector):\n",
    "        myNewVector.append(np.sqrt(2)*each)\n",
    "        myLabels.append(myPosLabels[idx//20]+\"_\"+aminoAcidIndex[idx%20])\n",
    "    \n",
    "    for i in range(len(inputVector)):\n",
    "        for j in range(i,len(inputVector)):\n",
    "            \n",
    "            myLabels.append(myPosLabels[i//20]+\"_\"+aminoAcidIndex[i%20]+\"__\"+\n",
    "            myPosLabels[j//20]+\"_\"+aminoAcidIndex[j%20])\n",
    "    \n",
    "    return myLabels"
   ]
  },
  {
   "cell_type": "code",
   "execution_count": 10,
   "metadata": {
    "collapsed": false
   },
   "outputs": [
    {
     "data": {
      "text/plain": [
       "193600"
      ]
     },
     "execution_count": 10,
     "metadata": {},
     "output_type": "execute_result"
    }
   ],
   "source": [
    "440*440"
   ]
  },
  {
   "cell_type": "code",
   "execution_count": null,
   "metadata": {
    "collapsed": true
   },
   "outputs": [],
   "source": [
    "for i in 'xsmnftzc':\n",
    "    model = pickle.load(open(\"/home/vxue/data/sort_specificity/rmse_doubleSet/ncv_z/modelpolyall_\"+i+\".pickle\",'rb'))\n",
    "    myWeights = getWeights(model)\n",
    "    myUpdatedWeights = np.concatenate([[myWeights[0]],np.zeros(440),myWeights[1:]])\n",
    "    \n",
    "    pickle.dump(myUpdatedWeights,open(\"/scratch/users/vxue/data/sort_specificity/design/weights/ncv_z.modelpolyall_\"+i+\".weights\",'wb'))"
   ]
  },
  {
   "cell_type": "code",
   "execution_count": 4,
   "metadata": {
    "collapsed": true
   },
   "outputs": [],
   "source": [
    "for i in 'xfm':\n",
    "    model = pickle.load(open(\"/home/vxue/data/sort_specificity/rmse_doubleSet/ncv_z/modelpolycomboall_\"+i+\".pickle\",'rb'))\n",
    "    myWeights = getWeights(model)\n",
    "    myUpdatedWeights = np.concatenate([[myWeights[0]],np.zeros(440),myWeights[1:]])\n",
    "\n",
    "    pickle.dump(myUpdatedWeights,open(\"/scratch/users/vxue/data/sort_specificity/design/weights/ncv_z.modelpolycomboall_\"+i+\".weights\",'wb'))"
   ]
  },
  {
   "cell_type": "code",
   "execution_count": 6,
   "metadata": {
    "collapsed": false
   },
   "outputs": [],
   "source": [
    "for i in 'xnf':\n",
    "    model = pickle.load(open(\"/home/vxue/data/sort_specificity/rmse_doubleSet/ncv_y/modelpolyall_\"+i+\".pickle\",'rb'))\n",
    "    myWeights = getWeights(model)\n",
    "    myUpdatedWeights = np.concatenate([[myWeights[0]],np.zeros(440),myWeights[1:]])\n",
    "    \n",
    "    pickle.dump(myUpdatedWeights,open(\"/scratch/users/vxue/data/sort_specificity/design_y/weights/ncv_y.modelpolyall_\"+i+\".weights\",'wb'))"
   ]
  },
  {
   "cell_type": "code",
   "execution_count": null,
   "metadata": {
    "collapsed": true
   },
   "outputs": [],
   "source": []
  }
 ],
 "metadata": {
  "kernelspec": {
   "display_name": "Python 3",
   "language": "python",
   "name": "python3"
  },
  "language_info": {
   "codemirror_mode": {
    "name": "ipython",
    "version": 3
   },
   "file_extension": ".py",
   "mimetype": "text/x-python",
   "name": "python",
   "nbconvert_exporter": "python",
   "pygments_lexer": "ipython3",
   "version": "3.5.1"
  }
 },
 "nbformat": 4,
 "nbformat_minor": 0
}
