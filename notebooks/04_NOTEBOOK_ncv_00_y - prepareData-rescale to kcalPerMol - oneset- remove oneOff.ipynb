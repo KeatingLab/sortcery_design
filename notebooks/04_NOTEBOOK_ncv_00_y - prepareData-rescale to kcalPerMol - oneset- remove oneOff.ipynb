{
 "cells": [
  {
   "cell_type": "code",
   "execution_count": 20,
   "metadata": {
    "collapsed": false
   },
   "outputs": [
    {
     "name": "stdout",
     "output_type": "stream",
     "text": [
      "Populating the interactive namespace from numpy and matplotlib\n"
     ]
    },
    {
     "name": "stderr",
     "output_type": "stream",
     "text": [
      "WARNING: pylab import has clobbered these variables: ['f']\n",
      "`%matplotlib` prevents importing * from pylab and numpy\n"
     ]
    }
   ],
   "source": [
    "%pylab inline\n",
    "import re\n",
    "import pandas as pd\n",
    "import numpy as np\n",
    "import pickle"
   ]
  },
  {
   "cell_type": "code",
   "execution_count": 21,
   "metadata": {
    "collapsed": true
   },
   "outputs": [],
   "source": [
    "allSeqs = pd.read_pickle(\"/home/vxue/data/sort_specificity/relativeScores.pickle\")\n",
    "allSeqs = allSeqs[~allSeqs.protein.str.contains(\"\\*\")]\n",
    "allSeqs = allSeqs[~allSeqs.protein.str.contains(\"X\")]"
   ]
  },
  {
   "cell_type": "code",
   "execution_count": 22,
   "metadata": {
    "collapsed": true
   },
   "outputs": [],
   "source": [
    "myDataSets =[]\n",
    "myDataSetName=[]"
   ]
  },
  {
   "cell_type": "code",
   "execution_count": 23,
   "metadata": {
    "collapsed": false
   },
   "outputs": [
    {
     "data": {
      "text/plain": [
       "unknown    2989\n",
       "m_b        1854\n",
       "f_p        1588\n",
       "m_p        1503\n",
       "f_b        1194\n",
       "x_p        1128\n",
       "x_b         918\n",
       "Name: source, dtype: int64"
      ]
     },
     "execution_count": 23,
     "metadata": {},
     "output_type": "execute_result"
    }
   ],
   "source": [
    "allSeqs.source.value_counts()"
   ]
  },
  {
   "cell_type": "code",
   "execution_count": 24,
   "metadata": {
    "collapsed": false
   },
   "outputs": [],
   "source": [
    "slopesDict = pickle.load(open(\"/home/vxue/data/lindsey_facs/slopes.pickle\",'rb'))\n",
    "slopesAndIntercepts = {'BFL1_100nM': slopesDict['BFL1_100nM'],\n",
    " 'm1': slopesDict['m1'],\n",
    " 'x1': slopesDict['x1'],\n",
    " 'Bcl-xl_100nM': slopesDict['Bcl-xl_100nM'],\n",
    " 'bfl1': slopesDict['bfl1'],\n",
    " 'm1r': slopesDict['m1r'],\n",
    " 'BCL-xl_1nM': slopesDict['BCL-xl_1nM'],\n",
    " 'x100': slopesDict['x100']}\n",
    "\n",
    "\n",
    "def getSlpInt(uniqueName):\n",
    "    return slopesAndIntercepts[uniqueName]"
   ]
  },
  {
   "cell_type": "code",
   "execution_count": 25,
   "metadata": {
    "collapsed": true
   },
   "outputs": [],
   "source": [
    "uniqueNames = ['x1','BCL-xl_1nM',\n",
    "               'BFL1_100nM','bfl1',\n",
    "               'm1','m1r',\n",
    "               'Bcl-xl_100nM','x100']\n",
    "conc = [1,1,100,100,1,1,100,100]"
   ]
  },
  {
   "cell_type": "code",
   "execution_count": 26,
   "metadata": {
    "collapsed": true
   },
   "outputs": [],
   "source": [
    "def isOneHitWonder(row,uniqueName):\n",
    "    \n",
    "    myDistribution = list(row[[uniqueName+\"_p\"+str(each) for each in range(12)]].squeeze())\n",
    "    \n",
    "    maxPeak = np.argmax(myDistribution)\n",
    "    \n",
    "    \n",
    "    #Edge cases\n",
    "    if(maxPeak==0 and myDistribution[maxPeak+1]==0):\n",
    "        return True\n",
    "    elif(maxPeak==11 and myDistribution[maxPeak-1]==0):\n",
    "        return True\n",
    "        \n",
    "    \n",
    "    #One hits wonders\n",
    "    if((myDistribution[maxPeak-1]==0) and (myDistribution[maxPeak+1]==0)):\n",
    "        return True\n",
    "    else:\n",
    "        return False"
   ]
  },
  {
   "cell_type": "code",
   "execution_count": 27,
   "metadata": {
    "collapsed": false
   },
   "outputs": [],
   "source": [
    "for each,c in zip(uniqueNames,conc):\n",
    "    slope,intercept = getSlpInt(each)\n",
    "    #Eventually replace this with a linear function\n",
    "    allSeqs[each+\"_energy\"] = allSeqs.apply(lambda x: x[each+\"_expectedValue\"] * slope+intercept,axis=1)\n",
    "    allSeqs[each+\"_ohw\"] = allSeqs.apply(lambda x: isOneHitWonder(x,each),axis=1)"
   ]
  },
  {
   "cell_type": "code",
   "execution_count": 28,
   "metadata": {
    "collapsed": false
   },
   "outputs": [],
   "source": [
    "isDesigned = allSeqs.source.str.contains('x_b|x_p|m_b|m_p|f_b|f_p')"
   ]
  },
  {
   "cell_type": "code",
   "execution_count": 29,
   "metadata": {
    "collapsed": false,
    "scrolled": false
   },
   "outputs": [
    {
     "name": "stdout",
     "output_type": "stream",
     "text": [
      "27\n",
      "19\n",
      "84\n",
      "317\n",
      "25\n",
      "33\n",
      "93\n",
      "47\n"
     ]
    }
   ],
   "source": [
    "for score,shortName,unimodalBool,ohw in zip(\n",
    "                          [k+\"_energy\" for k in uniqueNames],\n",
    "                          ['x','s','f','t','m','n','z','c'],\n",
    "                          [k+\"_isUnimodal\" for k in uniqueNames],\n",
    "                          [k+\"_ohw\" for k in uniqueNames]\n",
    "                          ):\n",
    "    \n",
    "    conditions = (~(allSeqs[score].isnull()) & (isDesigned)) & (allSeqs[unimodalBool]) & (allSeqs[ohw])\n",
    "    print(len(allSeqs[conditions]))\n"
   ]
  },
  {
   "cell_type": "code",
   "execution_count": 30,
   "metadata": {
    "collapsed": false
   },
   "outputs": [
    {
     "name": "stdout",
     "output_type": "stream",
     "text": [
      "2794\n",
      "3556\n",
      "1302\n",
      "3484\n",
      "3479\n",
      "3628\n",
      "1053\n",
      "2894\n"
     ]
    }
   ],
   "source": [
    "for score,shortName,unimodalBool,ohw in zip(\n",
    "                          [k+\"_energy\" for k in uniqueNames],\n",
    "                          ['x','s','f','t','m','n','z','c'],\n",
    "                          [k+\"_isUnimodal\" for k in uniqueNames],\n",
    "                          [k+\"_ohw\" for k in uniqueNames]\n",
    "                          ):\n",
    "    \n",
    "    conditions = (~(allSeqs[score].isnull()) & (isDesigned)) & (allSeqs[unimodalBool]) & ~(allSeqs[ohw])\n",
    "    print(len(allSeqs[conditions]))\n",
    "\n",
    "    f = allSeqs[conditions].copy()\n",
    "    f['yValue'] = f[score]\n",
    "    f['twentytwo'] = f.protein\n",
    "    myDataSets.append(f.reset_index())\n",
    "    myDataSetName.append(\"all_\"+shortName)"
   ]
  },
  {
   "cell_type": "code",
   "execution_count": 31,
   "metadata": {
    "collapsed": false
   },
   "outputs": [],
   "source": [
    "for i in range(4):\n",
    "    part1 = myDataSets[i*2] \n",
    "    part2 = myDataSets[i*2+1]\n",
    "    combo = pd.concat([part1,part2])\n",
    "    \n",
    "    myDataSets.append(combo.reset_index())\n",
    "    myDataSetName.append('combo'+myDataSetName[i*2])"
   ]
  },
  {
   "cell_type": "code",
   "execution_count": 32,
   "metadata": {
    "collapsed": false
   },
   "outputs": [
    {
     "data": {
      "text/plain": [
       "[('all_x', 2794, 0),\n",
       " ('all_s', 3556, 0),\n",
       " ('all_f', 1302, 0),\n",
       " ('all_t', 3484, 0),\n",
       " ('all_m', 3479, 0),\n",
       " ('all_n', 3628, 0),\n",
       " ('all_z', 1053, 0),\n",
       " ('all_c', 2894, 0),\n",
       " ('comboall_x', 6350, 0),\n",
       " ('comboall_f', 4786, 0),\n",
       " ('comboall_m', 7107, 0),\n",
       " ('comboall_z', 3947, 0)]"
      ]
     },
     "execution_count": 32,
     "metadata": {},
     "output_type": "execute_result"
    }
   ],
   "source": [
    "[j for j in zip(myDataSetName,[len(i) for i in myDataSets],[sum(np.isnan(i.yValue)) for i in myDataSets])]"
   ]
  },
  {
   "cell_type": "code",
   "execution_count": 33,
   "metadata": {
    "collapsed": false
   },
   "outputs": [],
   "source": [
    "pickle.dump([myDataSets,myDataSetName],open('/home/vxue/data/sort_specificity/ncv_y/allData.pickle','wb'))"
   ]
  },
  {
   "cell_type": "code",
   "execution_count": 34,
   "metadata": {
    "collapsed": true
   },
   "outputs": [],
   "source": [
    "[myDataSets_load,myDataSetName_load] = pickle.load(open('/home/vxue/data/sort_specificity/ncv_y/allData.pickle','rb'))"
   ]
  },
  {
   "cell_type": "code",
   "execution_count": 35,
   "metadata": {
    "collapsed": false
   },
   "outputs": [
    {
     "data": {
      "text/plain": [
       "[('all_x', 2794, 0),\n",
       " ('all_s', 3556, 0),\n",
       " ('all_f', 1302, 0),\n",
       " ('all_t', 3484, 0),\n",
       " ('all_m', 3479, 0),\n",
       " ('all_n', 3628, 0),\n",
       " ('all_z', 1053, 0),\n",
       " ('all_c', 2894, 0),\n",
       " ('comboall_x', 6350, 0),\n",
       " ('comboall_f', 4786, 0),\n",
       " ('comboall_m', 7107, 0),\n",
       " ('comboall_z', 3947, 0)]"
      ]
     },
     "execution_count": 35,
     "metadata": {},
     "output_type": "execute_result"
    }
   ],
   "source": [
    "[j for j in zip(myDataSetName_load,[len(i) for i in myDataSets_load],[sum(np.isnan(i.yValue)) for i in myDataSets_load])]"
   ]
  },
  {
   "cell_type": "code",
   "execution_count": 36,
   "metadata": {
    "collapsed": false
   },
   "outputs": [
    {
     "data": {
      "text/plain": [
       "['all_x',\n",
       " 'all_s',\n",
       " 'all_f',\n",
       " 'all_t',\n",
       " 'all_m',\n",
       " 'all_n',\n",
       " 'all_z',\n",
       " 'all_c',\n",
       " 'comboall_x',\n",
       " 'comboall_f',\n",
       " 'comboall_m',\n",
       " 'comboall_z']"
      ]
     },
     "execution_count": 36,
     "metadata": {},
     "output_type": "execute_result"
    }
   ],
   "source": [
    "myDataSetName"
   ]
  },
  {
   "cell_type": "code",
   "execution_count": 37,
   "metadata": {
    "collapsed": false
   },
   "outputs": [
    {
     "data": {
      "text/plain": [
       "12"
      ]
     },
     "execution_count": 37,
     "metadata": {},
     "output_type": "execute_result"
    }
   ],
   "source": [
    "len(myDataSetName)"
   ]
  },
  {
   "cell_type": "code",
   "execution_count": 40,
   "metadata": {
    "collapsed": false,
    "scrolled": false
   },
   "outputs": [
    {
     "name": "stdout",
     "output_type": "stream",
     "text": [
      "all_x\n",
      "all_s\n",
      "all_f\n",
      "all_t\n",
      "all_m\n",
      "all_n\n",
      "all_z\n",
      "all_c\n",
      "comboall_x\n",
      "comboall_f\n",
      "comboall_m\n",
      "comboall_z\n"
     ]
    },
    {
     "data": {
      "image/png": "[encoded data removed]",
      "text/plain": [
       "<matplotlib.figure.Figure at 0x2aaae70f79e8>"
      ]
     },
     "metadata": {},
     "output_type": "display_data"
    },
    {
     "data": {
      "image/png": "[encoded data removed]",
      "text/plain": [
       "<matplotlib.figure.Figure at 0x2aaae71046a0>"
      ]
     },
     "metadata": {},
     "output_type": "display_data"
    },
    {
     "data": {
      "image/png": "[encoded data removed]",
      "text/plain": [
       "<matplotlib.figure.Figure at 0x2aaae6d61f60>"
      ]
     },
     "metadata": {},
     "output_type": "display_data"
    },
    {
     "data": {
      "image/png": "[encoded data removed]",
      "text/plain": [
       "<matplotlib.figure.Figure at 0x2aaae6ceda58>"
      ]
     },
     "metadata": {},
     "output_type": "display_data"
    },
    {
     "data": {
      "image/png": "[encoded data removed]",
      "text/plain": [
       "<matplotlib.figure.Figure at 0x2aaae723ab38>"
      ]
     },
     "metadata": {},
     "output_type": "display_data"
    },
    {
     "data": {
      "image/png": "[encoded data removed]",
      "text/plain": [
       "<matplotlib.figure.Figure at 0x2aaaea223748>"
      ]
     },
     "metadata": {},
     "output_type": "display_data"
    },
    {
     "data": {
      "image/png": "[encoded data removed]",
      "text/plain": [
       "<matplotlib.figure.Figure at 0x2aaaea2246d8>"
      ]
     },
     "metadata": {},
     "output_type": "display_data"
    },
    {
     "data": {
      "image/png": "[encoded data removed]",
      "text/plain": [
       "<matplotlib.figure.Figure at 0x2aaae6434e80>"
      ]
     },
     "metadata": {},
     "output_type": "display_data"
    },
    {
     "data": {
      "image/png": "[encoded data removed]",
      "text/plain": [
       "<matplotlib.figure.Figure at 0x2aaae6d2db00>"
      ]
     },
     "metadata": {},
     "output_type": "display_data"
    },
    {
     "data": {
      "image/png": "[encoded data removed]",
      "text/plain": [
       "<matplotlib.figure.Figure at 0x2aaaea348278>"
      ]
     },
     "metadata": {},
     "output_type": "display_data"
    },
    {
     "data": {
      "image/png": "[encoded data removed]",
      "text/plain": [
       "<matplotlib.figure.Figure at 0x2aaaea308b38>"
      ]
     },
     "metadata": {},
     "output_type": "display_data"
    },
    {
     "data": {
      "image/png": "[encoded data removed]",
      "text/plain": [
       "<matplotlib.figure.Figure at 0x2aaaece2c320>"
      ]
     },
     "metadata": {},
     "output_type": "display_data"
    }
   ],
   "source": [
    "for each,ds in zip(myDataSetName,myDataSets):\n",
    "    print(each)\n",
    "    fig,ax = plt.subplots()\n",
    "    hist(ds.yValue)\n",
    "    title(each)"
   ]
  },
  {
   "cell_type": "code",
   "execution_count": null,
   "metadata": {
    "collapsed": true
   },
   "outputs": [],
   "source": []
  }
 ],
 "metadata": {
  "kernelspec": {
   "display_name": "Python 3",
   "language": "python",
   "name": "python3"
  },
  "language_info": {
   "codemirror_mode": {
    "name": "ipython",
    "version": 3
   },
   "file_extension": ".py",
   "mimetype": "text/x-python",
   "name": "python",
   "nbconvert_exporter": "python",
   "pygments_lexer": "ipython3",
   "version": "3.5.1"
  }
 },
 "nbformat": 4,
 "nbformat_minor": 0
}
